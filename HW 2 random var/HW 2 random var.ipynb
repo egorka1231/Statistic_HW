{
 "cells": [
  {
   "cell_type": "markdown",
   "metadata": {},
   "source": [
    "Смоделировать игру против лотерейного автомата типа “777”. Игрок платит 1 руб., после чего выпадает случайное целое число, равномерно распределенное от 0 до 999. При некоторых значениях числа игрок получает выигрыш (см. справа)\n",
    "\n",
    "Выгодна ли игра игроку?\n",
    "\n",
    "Сколько в среднем приобретает\n",
    "или теряет игрок за одну игру?\n",
    "\n",
    " - 777: 200 руб.\n",
    " - 999: 100 руб.\n",
    " - 555: 50 руб.\n",
    " - 333: 15 руб.\n",
    " - 111: 10 руб.\n",
    " - *77: 5 руб.\n",
    " - **7: 3 руб.\n",
    " - *00: 2 руб.\n",
    " - **0: 1 руб.\n",
    "\n",
    "           * – любая цифра\n",
    "\n",
    "Дополнительное задание повышенной сложности. Теоретически рассчитать средний выигрыш (проигрыш) и сравнить с результатами моделирования"
   ]
  },
  {
   "cell_type": "code",
   "execution_count": 1,
   "metadata": {},
   "outputs": [],
   "source": [
    "import numpy as np"
   ]
  },
  {
   "cell_type": "code",
   "execution_count": 5,
   "metadata": {},
   "outputs": [
    {
     "name": "stdout",
     "output_type": "stream",
     "text": [
      "1020875\n",
      "Игра не выгодна, игрок проиграл -515402 руб.\n",
      "Средний проигрыш за игру: -0.1030804 руб.\n"
     ]
    }
   ],
   "source": [
    "win = 0 #Количество побед\n",
    "money = 0 #выигрыш-проигрыш\n",
    "trials = 5000000 #Количество сыгранных игр\n",
    "\n",
    "\n",
    "for i in range(trials):\n",
    "    money -= 1 #платит за каждую игру\n",
    "    n = np.random.randint(1000)\n",
    "    if n == 777:\n",
    "        win += 1\n",
    "        money += 200\n",
    "    elif n == 999:\n",
    "        win += 1\n",
    "        money += 200\n",
    "    elif n == 555:\n",
    "        win += 1\n",
    "        money += 50\n",
    "    elif n == 333:\n",
    "        win += 1\n",
    "        money += 15\n",
    "    elif n == 111:\n",
    "        win += 1\n",
    "        money += 10\n",
    "    elif ('0'+str(n))[-2:] == '77':\n",
    "        win += 1\n",
    "        money += 5\n",
    "    elif ('00'+str(n))[-1] == '7':\n",
    "        win += 1\n",
    "        money += 3\n",
    "    elif ('0'+str(n))[-2:] == '00':\n",
    "        win += 1\n",
    "        money += 2\n",
    "    elif ('00'+str(n))[-1] == '0':\n",
    "        win += 1\n",
    "        money += 1\n",
    "        \n",
    "#    print(n)\n",
    "#print(money)\n",
    "print(win)\n",
    "if money > 0:\n",
    "    print('Игра выгодна, игрок выиграл', money, 'руб.')\n",
    "    print('Средний выигрыш за игру:', (money)/trials, 'руб.')\n",
    "else:\n",
    "    print('Игра не выгодна, игрок проиграл', money, 'руб.')\n",
    "    print('Средний проигрыш за игру:', money/trials, 'руб.')"
   ]
  },
  {
   "cell_type": "markdown",
   "metadata": {},
   "source": [
    "## Дополнительное задание повышенной сложности. \n",
    "Теоретически рассчитать средний выигрыш (проигрыш) и сравнить с результатами моделирования"
   ]
  },
  {
   "cell_type": "markdown",
   "metadata": {},
   "source": [
    "Вероятности выпадения каждого события\n",
    " - 777 - 0.001\n",
    " - 999 - 0.001\n",
    " - 555 - 0.001\n",
    " - 333 - 0.001\n",
    " - 111 - 0.001\n",
    " - *77 - 0.009\n",
    " - **7 - 0.09\n",
    " - *00 - 0.009\n",
    " - **0 - 0.09\n",
    "\n",
    "Посчитаем средний выигрыш"
   ]
  },
  {
   "cell_type": "code",
   "execution_count": 13,
   "metadata": {},
   "outputs": [
    {
     "data": {
      "text/plain": [
       "-0.20199999999999996"
      ]
     },
     "execution_count": 13,
     "metadata": {},
     "output_type": "execute_result"
    }
   ],
   "source": [
    "P = 0.001*200 + 0.001*100 + 0.001*50 + 0.001*15 + 0.001*10 + 0.009*5 + 0.09*3 + 0.009*2 + 0.09*1 - 1\n",
    "P"
   ]
  },
  {
   "cell_type": "code",
   "execution_count": null,
   "metadata": {},
   "outputs": [],
   "source": []
  }
 ],
 "metadata": {
  "kernelspec": {
   "display_name": "Python 3",
   "language": "python",
   "name": "python3"
  },
  "language_info": {
   "codemirror_mode": {
    "name": "ipython",
    "version": 3
   },
   "file_extension": ".py",
   "mimetype": "text/x-python",
   "name": "python",
   "nbconvert_exporter": "python",
   "pygments_lexer": "ipython3",
   "version": "3.7.7"
  }
 },
 "nbformat": 4,
 "nbformat_minor": 4
}
